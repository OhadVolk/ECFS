{
 "cells": [
  {
   "cell_type": "code",
   "execution_count": 3,
   "metadata": {},
   "outputs": [],
   "source": [
    "from ec_feature_selection import ECFS\n",
    "from sklearn.datasets import load_breast_cancer\n",
    "from sklearn.model_selection import train_test_split"
   ]
  },
  {
   "cell_type": "markdown",
   "metadata": {},
   "source": [
    "### Load and split the data"
   ]
  },
  {
   "cell_type": "code",
   "execution_count": 4,
   "metadata": {},
   "outputs": [
    {
     "name": "stdout",
     "output_type": "stream",
     "text": [
      "(398, 30)\n"
     ]
    }
   ],
   "source": [
    "data = load_breast_cancer()\n",
    "\n",
    "X = data['data']\n",
    "y = data['target']\n",
    "feature_names = data['feature_names']\n",
    "\n",
    "X_train, X_test, y_train, y_test = train_test_split(X, y, test_size=0.3)\n",
    "\n",
    "print(X_train.shape)"
   ]
  },
  {
   "cell_type": "code",
   "execution_count": 5,
   "metadata": {},
   "outputs": [],
   "source": [
    "# ECFS instance\n",
    "ecfs = ECFS(n_features=10)"
   ]
  },
  {
   "cell_type": "markdown",
   "metadata": {},
   "source": [
    "### You can fit and transform the data separately"
   ]
  },
  {
   "cell_type": "code",
   "execution_count": 6,
   "metadata": {},
   "outputs": [
    {
     "name": "stdout",
     "output_type": "stream",
     "text": [
      "(398, 10)\n"
     ]
    }
   ],
   "source": [
    "ecfs.fit(X=X_train, y=y_train, alpha=0.5, positive_class=1, negative_class=0)\n",
    "X_train_reduced = ecfs.transform(X_train)\n",
    "X_test_reduced = ecfs.transform(X_test)\n",
    "print(X_train_reduced.shape)"
   ]
  },
  {
   "cell_type": "markdown",
   "metadata": {},
   "source": [
    "### Or use fit_transform"
   ]
  },
  {
   "cell_type": "code",
   "execution_count": 7,
   "metadata": {},
   "outputs": [
    {
     "name": "stdout",
     "output_type": "stream",
     "text": [
      "(398, 10)\n"
     ]
    }
   ],
   "source": [
    "X_train_reduced = ecfs.fit_transform(X=X_train, y=y_train, alpha=0.5, positive_class=1, negative_class=0)\n",
    "X_test_reduced = ecfs.transform(X_test)\n",
    "print(X_train_reduced.shape)"
   ]
  },
  {
   "cell_type": "markdown",
   "metadata": {},
   "source": [
    "### You can use the ecfs instance to explore the features and the metrics"
   ]
  },
  {
   "cell_type": "code",
   "execution_count": 8,
   "metadata": {},
   "outputs": [
    {
     "data": {
      "text/html": [
       "<div>\n",
       "<style scoped>\n",
       "    .dataframe tbody tr th:only-of-type {\n",
       "        vertical-align: middle;\n",
       "    }\n",
       "\n",
       "    .dataframe tbody tr th {\n",
       "        vertical-align: top;\n",
       "    }\n",
       "\n",
       "    .dataframe thead th {\n",
       "        text-align: right;\n",
       "    }\n",
       "</style>\n",
       "<table border=\"1\" class=\"dataframe\">\n",
       "  <thead>\n",
       "    <tr style=\"text-align: right;\">\n",
       "      <th></th>\n",
       "      <th>Feature</th>\n",
       "      <th>Ranking</th>\n",
       "      <th>MI</th>\n",
       "      <th>Fisher Score</th>\n",
       "    </tr>\n",
       "  </thead>\n",
       "  <tbody>\n",
       "    <tr>\n",
       "      <th>8</th>\n",
       "      <td>mean symmetry</td>\n",
       "      <td>0</td>\n",
       "      <td>0.044345</td>\n",
       "      <td>2.305060e-01</td>\n",
       "    </tr>\n",
       "    <tr>\n",
       "      <th>7</th>\n",
       "      <td>mean concave points</td>\n",
       "      <td>1</td>\n",
       "      <td>0.280409</td>\n",
       "      <td>2.883455e+00</td>\n",
       "    </tr>\n",
       "    <tr>\n",
       "      <th>4</th>\n",
       "      <td>mean smoothness</td>\n",
       "      <td>2</td>\n",
       "      <td>0.057427</td>\n",
       "      <td>2.856486e-01</td>\n",
       "    </tr>\n",
       "    <tr>\n",
       "      <th>1</th>\n",
       "      <td>mean texture</td>\n",
       "      <td>3</td>\n",
       "      <td>0.095725</td>\n",
       "      <td>5.187806e-01</td>\n",
       "    </tr>\n",
       "    <tr>\n",
       "      <th>22</th>\n",
       "      <td>worst perimeter</td>\n",
       "      <td>4</td>\n",
       "      <td>0.301938</td>\n",
       "      <td>2.806540e+00</td>\n",
       "    </tr>\n",
       "    <tr>\n",
       "      <th>17</th>\n",
       "      <td>concave points error</td>\n",
       "      <td>5</td>\n",
       "      <td>0.111879</td>\n",
       "      <td>5.667031e-01</td>\n",
       "    </tr>\n",
       "    <tr>\n",
       "      <th>12</th>\n",
       "      <td>perimeter error</td>\n",
       "      <td>6</td>\n",
       "      <td>0.235063</td>\n",
       "      <td>8.096157e-01</td>\n",
       "    </tr>\n",
       "    <tr>\n",
       "      <th>11</th>\n",
       "      <td>texture error</td>\n",
       "      <td>7</td>\n",
       "      <td>0.018145</td>\n",
       "      <td>7.395344e-04</td>\n",
       "    </tr>\n",
       "    <tr>\n",
       "      <th>24</th>\n",
       "      <td>worst smoothness</td>\n",
       "      <td>8</td>\n",
       "      <td>0.062251</td>\n",
       "      <td>3.470334e-01</td>\n",
       "    </tr>\n",
       "    <tr>\n",
       "      <th>27</th>\n",
       "      <td>worst concave points</td>\n",
       "      <td>9</td>\n",
       "      <td>0.258247</td>\n",
       "      <td>3.256289e+00</td>\n",
       "    </tr>\n",
       "    <tr>\n",
       "      <th>15</th>\n",
       "      <td>compactness error</td>\n",
       "      <td>10</td>\n",
       "      <td>0.080763</td>\n",
       "      <td>2.333678e-01</td>\n",
       "    </tr>\n",
       "    <tr>\n",
       "      <th>14</th>\n",
       "      <td>smoothness error</td>\n",
       "      <td>11</td>\n",
       "      <td>0.018441</td>\n",
       "      <td>8.007241e-03</td>\n",
       "    </tr>\n",
       "    <tr>\n",
       "      <th>9</th>\n",
       "      <td>mean fractal dimension</td>\n",
       "      <td>12</td>\n",
       "      <td>0.029950</td>\n",
       "      <td>8.146159e-04</td>\n",
       "    </tr>\n",
       "    <tr>\n",
       "      <th>2</th>\n",
       "      <td>mean perimeter</td>\n",
       "      <td>13</td>\n",
       "      <td>0.249781</td>\n",
       "      <td>2.266480e+00</td>\n",
       "    </tr>\n",
       "    <tr>\n",
       "      <th>29</th>\n",
       "      <td>worst fractal dimension</td>\n",
       "      <td>14</td>\n",
       "      <td>0.043281</td>\n",
       "      <td>1.918719e-01</td>\n",
       "    </tr>\n",
       "    <tr>\n",
       "      <th>23</th>\n",
       "      <td>worst area</td>\n",
       "      <td>15</td>\n",
       "      <td>0.337638</td>\n",
       "      <td>1.951340e+00</td>\n",
       "    </tr>\n",
       "    <tr>\n",
       "      <th>19</th>\n",
       "      <td>fractal dimension error</td>\n",
       "      <td>16</td>\n",
       "      <td>0.031920</td>\n",
       "      <td>3.013617e-02</td>\n",
       "    </tr>\n",
       "    <tr>\n",
       "      <th>18</th>\n",
       "      <td>symmetry error</td>\n",
       "      <td>17</td>\n",
       "      <td>0.023602</td>\n",
       "      <td>6.435603e-07</td>\n",
       "    </tr>\n",
       "    <tr>\n",
       "      <th>28</th>\n",
       "      <td>worst symmetry</td>\n",
       "      <td>18</td>\n",
       "      <td>0.067456</td>\n",
       "      <td>2.798582e-01</td>\n",
       "    </tr>\n",
       "    <tr>\n",
       "      <th>26</th>\n",
       "      <td>worst concavity</td>\n",
       "      <td>19</td>\n",
       "      <td>0.207430</td>\n",
       "      <td>1.705576e+00</td>\n",
       "    </tr>\n",
       "    <tr>\n",
       "      <th>6</th>\n",
       "      <td>mean concavity</td>\n",
       "      <td>20</td>\n",
       "      <td>0.245207</td>\n",
       "      <td>2.254201e+00</td>\n",
       "    </tr>\n",
       "    <tr>\n",
       "      <th>5</th>\n",
       "      <td>mean compactness</td>\n",
       "      <td>21</td>\n",
       "      <td>0.137053</td>\n",
       "      <td>1.070305e+00</td>\n",
       "    </tr>\n",
       "    <tr>\n",
       "      <th>3</th>\n",
       "      <td>mean area</td>\n",
       "      <td>22</td>\n",
       "      <td>0.256559</td>\n",
       "      <td>1.726979e+00</td>\n",
       "    </tr>\n",
       "    <tr>\n",
       "      <th>0</th>\n",
       "      <td>mean radius</td>\n",
       "      <td>23</td>\n",
       "      <td>0.238263</td>\n",
       "      <td>2.118928e+00</td>\n",
       "    </tr>\n",
       "    <tr>\n",
       "      <th>21</th>\n",
       "      <td>worst texture</td>\n",
       "      <td>24</td>\n",
       "      <td>0.088417</td>\n",
       "      <td>5.626161e-01</td>\n",
       "    </tr>\n",
       "    <tr>\n",
       "      <th>16</th>\n",
       "      <td>concavity error</td>\n",
       "      <td>25</td>\n",
       "      <td>0.109708</td>\n",
       "      <td>3.909923e-01</td>\n",
       "    </tr>\n",
       "    <tr>\n",
       "      <th>13</th>\n",
       "      <td>area error</td>\n",
       "      <td>26</td>\n",
       "      <td>0.360940</td>\n",
       "      <td>6.996425e-01</td>\n",
       "    </tr>\n",
       "    <tr>\n",
       "      <th>10</th>\n",
       "      <td>radius error</td>\n",
       "      <td>27</td>\n",
       "      <td>0.214416</td>\n",
       "      <td>8.772393e-01</td>\n",
       "    </tr>\n",
       "    <tr>\n",
       "      <th>20</th>\n",
       "      <td>worst radius</td>\n",
       "      <td>28</td>\n",
       "      <td>0.293000</td>\n",
       "      <td>2.711011e+00</td>\n",
       "    </tr>\n",
       "    <tr>\n",
       "      <th>25</th>\n",
       "      <td>worst compactness</td>\n",
       "      <td>29</td>\n",
       "      <td>0.122627</td>\n",
       "      <td>8.854406e-01</td>\n",
       "    </tr>\n",
       "  </tbody>\n",
       "</table>\n",
       "</div>"
      ],
      "text/plain": [
       "                    Feature  Ranking        MI  Fisher Score\n",
       "8             mean symmetry        0  0.044345  2.305060e-01\n",
       "7       mean concave points        1  0.280409  2.883455e+00\n",
       "4           mean smoothness        2  0.057427  2.856486e-01\n",
       "1              mean texture        3  0.095725  5.187806e-01\n",
       "22          worst perimeter        4  0.301938  2.806540e+00\n",
       "17     concave points error        5  0.111879  5.667031e-01\n",
       "12          perimeter error        6  0.235063  8.096157e-01\n",
       "11            texture error        7  0.018145  7.395344e-04\n",
       "24         worst smoothness        8  0.062251  3.470334e-01\n",
       "27     worst concave points        9  0.258247  3.256289e+00\n",
       "15        compactness error       10  0.080763  2.333678e-01\n",
       "14         smoothness error       11  0.018441  8.007241e-03\n",
       "9    mean fractal dimension       12  0.029950  8.146159e-04\n",
       "2            mean perimeter       13  0.249781  2.266480e+00\n",
       "29  worst fractal dimension       14  0.043281  1.918719e-01\n",
       "23               worst area       15  0.337638  1.951340e+00\n",
       "19  fractal dimension error       16  0.031920  3.013617e-02\n",
       "18           symmetry error       17  0.023602  6.435603e-07\n",
       "28           worst symmetry       18  0.067456  2.798582e-01\n",
       "26          worst concavity       19  0.207430  1.705576e+00\n",
       "6            mean concavity       20  0.245207  2.254201e+00\n",
       "5          mean compactness       21  0.137053  1.070305e+00\n",
       "3                 mean area       22  0.256559  1.726979e+00\n",
       "0               mean radius       23  0.238263  2.118928e+00\n",
       "21            worst texture       24  0.088417  5.626161e-01\n",
       "16          concavity error       25  0.109708  3.909923e-01\n",
       "13               area error       26  0.360940  6.996425e-01\n",
       "10             radius error       27  0.214416  8.772393e-01\n",
       "20             worst radius       28  0.293000  2.711011e+00\n",
       "25        worst compactness       29  0.122627  8.854406e-01"
      ]
     },
     "execution_count": 8,
     "metadata": {},
     "output_type": "execute_result"
    }
   ],
   "source": [
    "import pandas as pd\n",
    "\n",
    "summary = pd.DataFrame({'Feature' : feature_names, 'Ranking' : ecfs.ranking, 'MI' : ecfs.mutual_information, 'Fisher Score' : ecfs.fisher_score})\n",
    "summary.sort_values(by='Ranking')"
   ]
  },
  {
   "cell_type": "markdown",
   "metadata": {},
   "source": [
    "### You can explore and use the eigenvalues and eigenvectors"
   ]
  },
  {
   "cell_type": "code",
   "execution_count": 9,
   "metadata": {},
   "outputs": [
    {
     "data": {
      "text/plain": [
       "array([-1.52333177e+03, -5.20671376e+01, -3.46827751e+01, -6.59155705e+00,\n",
       "       -4.41425286e+00, -1.73401904e+00, -7.48270514e-01, -3.85449622e-01,\n",
       "       -2.42953553e-01, -1.79007989e-01, -9.37644020e-02, -6.54108602e-02,\n",
       "       -3.10540949e-02, -2.23882917e-02, -1.45221241e-02, -7.92699605e-03,\n",
       "       -6.03447007e-03, -3.25261003e-03, -2.46505777e-03, -1.88400569e-03,\n",
       "       -1.43512622e-03, -1.05572277e-03, -8.50986792e-04, -4.32349680e-04,\n",
       "       -1.78862165e-04, -1.06403736e-04, -1.02982781e-04, -8.22789398e-05,\n",
       "        1.04382763e+00,  2.16725686e+03])"
      ]
     },
     "execution_count": 9,
     "metadata": {},
     "output_type": "execute_result"
    }
   ],
   "source": [
    "ecfs.eigenvalues"
   ]
  }
 ],
 "metadata": {
  "kernelspec": {
   "display_name": "Python 3",
   "language": "python",
   "name": "python3"
  },
  "language_info": {
   "codemirror_mode": {
    "name": "ipython",
    "version": 3
   },
   "file_extension": ".py",
   "mimetype": "text/x-python",
   "name": "python",
   "nbconvert_exporter": "python",
   "pygments_lexer": "ipython3",
   "version": "3.7.1"
  }
 },
 "nbformat": 4,
 "nbformat_minor": 2
}
