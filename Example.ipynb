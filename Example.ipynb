{
 "cells": [
  {
   "cell_type": "code",
   "execution_count": 31,
   "metadata": {},
   "outputs": [],
   "source": [
    "from ec_feature_selection import ECFS\n",
    "from sklearn.datasets import load_breast_cancer\n",
    "from sklearn.model_selection import train_test_split"
   ]
  },
  {
   "cell_type": "markdown",
   "metadata": {},
   "source": [
    "### Load and split the data"
   ]
  },
  {
   "cell_type": "code",
   "execution_count": 32,
   "metadata": {},
   "outputs": [
    {
     "name": "stdout",
     "output_type": "stream",
     "text": [
      "(398, 30)\n"
     ]
    }
   ],
   "source": [
    "data = load_breast_cancer()\n",
    "\n",
    "X = data['data']\n",
    "y = data['target']\n",
    "feature_names = data['feature_names']\n",
    "\n",
    "X_train, X_test, y_train, y_test = train_test_split(X, y, test_size=0.3)\n",
    "\n",
    "print(X_train.shape)"
   ]
  },
  {
   "cell_type": "code",
   "execution_count": 33,
   "metadata": {},
   "outputs": [],
   "source": [
    "# ECFS instance\n",
    "ecfs = ECFS(n_features=10)"
   ]
  },
  {
   "cell_type": "markdown",
   "metadata": {},
   "source": [
    "### You can fit and transform the data separately"
   ]
  },
  {
   "cell_type": "code",
   "execution_count": 34,
   "metadata": {},
   "outputs": [
    {
     "name": "stdout",
     "output_type": "stream",
     "text": [
      "(398, 10)\n"
     ]
    }
   ],
   "source": [
    "ecfs.fit(X=X_train, y=y_train, alpha=0.5, positive_class=1, negative_class=0)\n",
    "X_train_reduced = ecfs.transform(X_train)\n",
    "X_test_reduced = ecfs.transform(X_test)\n",
    "print(X_train_reduced.shape)"
   ]
  },
  {
   "cell_type": "markdown",
   "metadata": {},
   "source": [
    "### Or use fit_transform"
   ]
  },
  {
   "cell_type": "code",
   "execution_count": 35,
   "metadata": {},
   "outputs": [
    {
     "name": "stdout",
     "output_type": "stream",
     "text": [
      "(398, 10)\n"
     ]
    }
   ],
   "source": [
    "X_train_reduced = ecfs.fit_transform(X=X_train, y=y_train, alpha=0.5, positive_class=1, negative_class=0)\n",
    "X_test_reduced = ecfs.transform(X_test)\n",
    "print(X_train_reduced.shape)"
   ]
  },
  {
   "cell_type": "markdown",
   "metadata": {},
   "source": [
    "### You can use the ecfs instance to explore the features and the metrics"
   ]
  },
  {
   "cell_type": "code",
   "execution_count": 36,
   "metadata": {},
   "outputs": [
    {
     "data": {
      "text/html": [
       "<div>\n",
       "<style scoped>\n",
       "    .dataframe tbody tr th:only-of-type {\n",
       "        vertical-align: middle;\n",
       "    }\n",
       "\n",
       "    .dataframe tbody tr th {\n",
       "        vertical-align: top;\n",
       "    }\n",
       "\n",
       "    .dataframe thead th {\n",
       "        text-align: right;\n",
       "    }\n",
       "</style>\n",
       "<table border=\"1\" class=\"dataframe\">\n",
       "  <thead>\n",
       "    <tr style=\"text-align: right;\">\n",
       "      <th></th>\n",
       "      <th>Feature</th>\n",
       "      <th>Ranking</th>\n",
       "      <th>MI</th>\n",
       "      <th>Fisher Score</th>\n",
       "    </tr>\n",
       "  </thead>\n",
       "  <tbody>\n",
       "    <tr>\n",
       "      <th>7</th>\n",
       "      <td>mean concave points</td>\n",
       "      <td>0</td>\n",
       "      <td>0.282755</td>\n",
       "      <td>2.810265</td>\n",
       "    </tr>\n",
       "    <tr>\n",
       "      <th>17</th>\n",
       "      <td>concave points error</td>\n",
       "      <td>1</td>\n",
       "      <td>0.134749</td>\n",
       "      <td>0.538584</td>\n",
       "    </tr>\n",
       "    <tr>\n",
       "      <th>6</th>\n",
       "      <td>mean concavity</td>\n",
       "      <td>2</td>\n",
       "      <td>0.258248</td>\n",
       "      <td>1.771509</td>\n",
       "    </tr>\n",
       "    <tr>\n",
       "      <th>1</th>\n",
       "      <td>mean texture</td>\n",
       "      <td>3</td>\n",
       "      <td>0.106682</td>\n",
       "      <td>0.508055</td>\n",
       "    </tr>\n",
       "    <tr>\n",
       "      <th>19</th>\n",
       "      <td>fractal dimension error</td>\n",
       "      <td>4</td>\n",
       "      <td>0.041846</td>\n",
       "      <td>0.022056</td>\n",
       "    </tr>\n",
       "    <tr>\n",
       "      <th>11</th>\n",
       "      <td>texture error</td>\n",
       "      <td>5</td>\n",
       "      <td>0.014854</td>\n",
       "      <td>0.000317</td>\n",
       "    </tr>\n",
       "    <tr>\n",
       "      <th>8</th>\n",
       "      <td>mean symmetry</td>\n",
       "      <td>6</td>\n",
       "      <td>0.047411</td>\n",
       "      <td>0.238228</td>\n",
       "    </tr>\n",
       "    <tr>\n",
       "      <th>4</th>\n",
       "      <td>mean smoothness</td>\n",
       "      <td>7</td>\n",
       "      <td>0.068865</td>\n",
       "      <td>0.366600</td>\n",
       "    </tr>\n",
       "    <tr>\n",
       "      <th>23</th>\n",
       "      <td>worst area</td>\n",
       "      <td>8</td>\n",
       "      <td>0.299226</td>\n",
       "      <td>1.981690</td>\n",
       "    </tr>\n",
       "    <tr>\n",
       "      <th>27</th>\n",
       "      <td>worst concave points</td>\n",
       "      <td>9</td>\n",
       "      <td>0.274446</td>\n",
       "      <td>3.571345</td>\n",
       "    </tr>\n",
       "    <tr>\n",
       "      <th>13</th>\n",
       "      <td>area error</td>\n",
       "      <td>10</td>\n",
       "      <td>0.344361</td>\n",
       "      <td>0.641181</td>\n",
       "    </tr>\n",
       "    <tr>\n",
       "      <th>28</th>\n",
       "      <td>worst symmetry</td>\n",
       "      <td>11</td>\n",
       "      <td>0.066720</td>\n",
       "      <td>0.305353</td>\n",
       "    </tr>\n",
       "    <tr>\n",
       "      <th>14</th>\n",
       "      <td>smoothness error</td>\n",
       "      <td>12</td>\n",
       "      <td>0.015143</td>\n",
       "      <td>0.002005</td>\n",
       "    </tr>\n",
       "    <tr>\n",
       "      <th>10</th>\n",
       "      <td>radius error</td>\n",
       "      <td>13</td>\n",
       "      <td>0.206148</td>\n",
       "      <td>0.783996</td>\n",
       "    </tr>\n",
       "    <tr>\n",
       "      <th>29</th>\n",
       "      <td>worst fractal dimension</td>\n",
       "      <td>14</td>\n",
       "      <td>0.058896</td>\n",
       "      <td>0.212859</td>\n",
       "    </tr>\n",
       "    <tr>\n",
       "      <th>22</th>\n",
       "      <td>worst perimeter</td>\n",
       "      <td>15</td>\n",
       "      <td>0.294942</td>\n",
       "      <td>2.789659</td>\n",
       "    </tr>\n",
       "    <tr>\n",
       "      <th>21</th>\n",
       "      <td>worst texture</td>\n",
       "      <td>16</td>\n",
       "      <td>0.109263</td>\n",
       "      <td>0.619273</td>\n",
       "    </tr>\n",
       "    <tr>\n",
       "      <th>16</th>\n",
       "      <td>concavity error</td>\n",
       "      <td>17</td>\n",
       "      <td>0.159136</td>\n",
       "      <td>0.164330</td>\n",
       "    </tr>\n",
       "    <tr>\n",
       "      <th>26</th>\n",
       "      <td>worst concavity</td>\n",
       "      <td>18</td>\n",
       "      <td>0.244508</td>\n",
       "      <td>1.595658</td>\n",
       "    </tr>\n",
       "    <tr>\n",
       "      <th>25</th>\n",
       "      <td>worst compactness</td>\n",
       "      <td>19</td>\n",
       "      <td>0.154233</td>\n",
       "      <td>0.999018</td>\n",
       "    </tr>\n",
       "    <tr>\n",
       "      <th>5</th>\n",
       "      <td>mean compactness</td>\n",
       "      <td>20</td>\n",
       "      <td>0.147086</td>\n",
       "      <td>1.084067</td>\n",
       "    </tr>\n",
       "    <tr>\n",
       "      <th>15</th>\n",
       "      <td>compactness error</td>\n",
       "      <td>21</td>\n",
       "      <td>0.076054</td>\n",
       "      <td>0.235535</td>\n",
       "    </tr>\n",
       "    <tr>\n",
       "      <th>3</th>\n",
       "      <td>mean area</td>\n",
       "      <td>22</td>\n",
       "      <td>0.242292</td>\n",
       "      <td>1.713839</td>\n",
       "    </tr>\n",
       "    <tr>\n",
       "      <th>0</th>\n",
       "      <td>mean radius</td>\n",
       "      <td>23</td>\n",
       "      <td>0.225815</td>\n",
       "      <td>2.053441</td>\n",
       "    </tr>\n",
       "    <tr>\n",
       "      <th>18</th>\n",
       "      <td>symmetry error</td>\n",
       "      <td>24</td>\n",
       "      <td>0.032409</td>\n",
       "      <td>0.001482</td>\n",
       "    </tr>\n",
       "    <tr>\n",
       "      <th>12</th>\n",
       "      <td>perimeter error</td>\n",
       "      <td>25</td>\n",
       "      <td>0.216977</td>\n",
       "      <td>0.738720</td>\n",
       "    </tr>\n",
       "    <tr>\n",
       "      <th>9</th>\n",
       "      <td>mean fractal dimension</td>\n",
       "      <td>26</td>\n",
       "      <td>0.029698</td>\n",
       "      <td>0.000200</td>\n",
       "    </tr>\n",
       "    <tr>\n",
       "      <th>2</th>\n",
       "      <td>mean perimeter</td>\n",
       "      <td>27</td>\n",
       "      <td>0.240350</td>\n",
       "      <td>2.197913</td>\n",
       "    </tr>\n",
       "    <tr>\n",
       "      <th>20</th>\n",
       "      <td>worst radius</td>\n",
       "      <td>28</td>\n",
       "      <td>0.276874</td>\n",
       "      <td>2.675998</td>\n",
       "    </tr>\n",
       "    <tr>\n",
       "      <th>24</th>\n",
       "      <td>worst smoothness</td>\n",
       "      <td>29</td>\n",
       "      <td>0.075880</td>\n",
       "      <td>0.462971</td>\n",
       "    </tr>\n",
       "  </tbody>\n",
       "</table>\n",
       "</div>"
      ],
      "text/plain": [
       "                    Feature  Ranking        MI  Fisher Score\n",
       "7       mean concave points        0  0.282755      2.810265\n",
       "17     concave points error        1  0.134749      0.538584\n",
       "6            mean concavity        2  0.258248      1.771509\n",
       "1              mean texture        3  0.106682      0.508055\n",
       "19  fractal dimension error        4  0.041846      0.022056\n",
       "11            texture error        5  0.014854      0.000317\n",
       "8             mean symmetry        6  0.047411      0.238228\n",
       "4           mean smoothness        7  0.068865      0.366600\n",
       "23               worst area        8  0.299226      1.981690\n",
       "27     worst concave points        9  0.274446      3.571345\n",
       "13               area error       10  0.344361      0.641181\n",
       "28           worst symmetry       11  0.066720      0.305353\n",
       "14         smoothness error       12  0.015143      0.002005\n",
       "10             radius error       13  0.206148      0.783996\n",
       "29  worst fractal dimension       14  0.058896      0.212859\n",
       "22          worst perimeter       15  0.294942      2.789659\n",
       "21            worst texture       16  0.109263      0.619273\n",
       "16          concavity error       17  0.159136      0.164330\n",
       "26          worst concavity       18  0.244508      1.595658\n",
       "25        worst compactness       19  0.154233      0.999018\n",
       "5          mean compactness       20  0.147086      1.084067\n",
       "15        compactness error       21  0.076054      0.235535\n",
       "3                 mean area       22  0.242292      1.713839\n",
       "0               mean radius       23  0.225815      2.053441\n",
       "18           symmetry error       24  0.032409      0.001482\n",
       "12          perimeter error       25  0.216977      0.738720\n",
       "9    mean fractal dimension       26  0.029698      0.000200\n",
       "2            mean perimeter       27  0.240350      2.197913\n",
       "20             worst radius       28  0.276874      2.675998\n",
       "24         worst smoothness       29  0.075880      0.462971"
      ]
     },
     "execution_count": 36,
     "metadata": {},
     "output_type": "execute_result"
    }
   ],
   "source": [
    "import pandas as pd\n",
    "\n",
    "summary = pd.DataFrame({'Feature' : feature_names, 'Ranking' : ecfs.ranking, 'MI' : ecfs.mutual_information, 'Fisher Score' : ecfs.fisher_score})\n",
    "summary.sort_values(by='Ranking')"
   ]
  },
  {
   "cell_type": "markdown",
   "metadata": {},
   "source": [
    "### You can explore and use the eigenvalues and eigenvectors"
   ]
  },
  {
   "cell_type": "code",
   "execution_count": 37,
   "metadata": {},
   "outputs": [
    {
     "data": {
      "text/plain": [
       "array([-2.49553526e+00, -8.62494620e-02, -5.60693122e-02, -1.07981280e-02,\n",
       "       -7.71889859e-03, -2.93811088e-03, -1.27298250e-03, -6.59763859e-04,\n",
       "       -4.33235426e-04, -3.03557399e-04, -1.64625747e-04, -1.16883095e-04,\n",
       "       -5.55038929e-05, -3.98895455e-05, -2.60899111e-05, -1.58655235e-05,\n",
       "       -1.14320881e-05, -7.34073281e-06, -4.51190498e-06, -3.64559329e-06,\n",
       "       -2.83238923e-06, -1.83207443e-06, -1.62845359e-06, -1.00274176e-06,\n",
       "       -7.06611192e-07, -2.59659626e-07, -1.66571579e-07, -1.56145496e-07,\n",
       "        7.97934926e-01,  5.44193469e+00])"
      ]
     },
     "execution_count": 37,
     "metadata": {},
     "output_type": "execute_result"
    }
   ],
   "source": [
    "ecfs.eigenvalues\n",
    "#ecfs.eigenvectors"
   ]
  }
 ],
 "metadata": {
  "kernelspec": {
   "display_name": "Python 3",
   "language": "python",
   "name": "python3"
  },
  "language_info": {
   "codemirror_mode": {
    "name": "ipython",
    "version": 3
   },
   "file_extension": ".py",
   "mimetype": "text/x-python",
   "name": "python",
   "nbconvert_exporter": "python",
   "pygments_lexer": "ipython3",
   "version": "3.7.1"
  }
 },
 "nbformat": 4,
 "nbformat_minor": 2
}
